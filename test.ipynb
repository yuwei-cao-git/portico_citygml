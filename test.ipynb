{
 "cells": [
  {
   "cell_type": "markdown",
   "metadata": {},
   "source": [
    "# CityGML LoDs Model Generation"
   ]
  },
  {
   "cell_type": "code",
   "execution_count": 2,
   "metadata": {},
   "outputs": [],
   "source": [
    "import geopandas as gpd\n",
    "import pyvista as pv\n",
    "import numpy as np"
   ]
  },
  {
   "cell_type": "markdown",
   "metadata": {},
   "source": [
    "## LoD0"
   ]
  },
  {
   "cell_type": "code",
   "execution_count": null,
   "metadata": {},
   "outputs": [],
   "source": [
    "gdf = gpd.read_file(\"./shp/dbgt_building_porch_1_lod1.shp\")"
   ]
  },
  {
   "cell_type": "markdown",
   "metadata": {},
   "source": [
    "## LoD1"
   ]
  },
  {
   "cell_type": "code",
   "execution_count": 3,
   "metadata": {},
   "outputs": [
    {
     "data": {
      "text/plain": [
       "<bound method NDFrame.head of     OBJECTID                                   CLASSID SCRIL DATA_FIN  \\\n",
       "0      148.0  RLB-ccc54dd2-b75d-4c74-856a-1d6a83d0ea5b  None     None   \n",
       "1      212.0  RLB-299111fb-caed-4daa-a346-de744ea5cf34  None     None   \n",
       "2      755.0  RLB-7dec7d76-a9c7-4f36-a23d-190b2b224d96  None     None   \n",
       "3     3250.0  RLB-9ba6d1c4-14d5-4ca9-9077-d367d05f30c0  None     None   \n",
       "4     3345.0  RLB-e118e04f-efe9-46d1-8c1f-e8f539f63a70  None     None   \n",
       "5     4016.0  RLB-2106c99e-b410-4af0-a177-6fc8650bdbef  None     None   \n",
       "6     4338.0  RLB-dad61f27-99ca-4c0e-9bd2-06a4bec2ef41  None     None   \n",
       "7     4425.0  RLB-4010603a-ad72-4c72-ade7-a5df048c7b22  None     None   \n",
       "8     4544.0  RLB-3c97096a-2e79-45f9-853a-7eebec5d6702  None     None   \n",
       "9     7334.0  RLB-a07176f5-7f71-4f35-9701-5f5b9fa5f360  None     None   \n",
       "10    8104.0  RLB-ccc1b9e4-7820-4380-9830-34afbc5c48f6  None     None   \n",
       "11    9202.0  RLB-14c4467d-daf6-41c4-bb17-44cbb6944095  None     None   \n",
       "12    9393.0  RLB-2e3b02ef-7b47-4760-b403-9ed68b591510  None     None   \n",
       "13    9698.0  RLB-ec3ac685-1ef6-46ea-a1b9-0c704304c6cf  None     None   \n",
       "14   11333.0  RLB-04474493-4d79-46bb-b791-22188780faef  None     None   \n",
       "15   11415.0  RLB-6481e22a-1422-4679-b366-81896fdbf495  None     None   \n",
       "16   11521.0  RLB-da73b25e-f5d8-41f8-9098-74e1bd8ee628  None     None   \n",
       "17   11847.0  RLB-4f196ea8-831d-45c8-90b4-33d7b1c670c2  None     None   \n",
       "18   12975.0  RLB-384e5af5-cbda-4362-a26b-51489e24a23b  None     None   \n",
       "19   13514.0  RLB-b2593efa-3aaf-4ccb-acd0-8e271a79b6bf  None     None   \n",
       "20   13642.0  RLB-ed3d9ca9-633f-43ed-93b7-857fa318b8ec  None     None   \n",
       "21   13816.0  RLB-afb86fec-671f-44f7-ac64-c83aaa1618ba  None     None   \n",
       "22   14229.0  RLB-05495314-c550-432a-8b58-33c60063c041  None     None   \n",
       "23   14300.0  RLB-ed8cdf4e-abac-46b7-99cf-69fadc6732d5  None     None   \n",
       "24   15973.0  RLB-f4243fc3-3b23-4507-9f87-23516e7b05be  None     None   \n",
       "25   15995.0  RLB-03021472-e2be-45bf-b271-e8187c2cabf8  None     None   \n",
       "26   18401.0  RLB-c1ba279e-a08d-4668-8e68-d481ad22ceb9  None     None   \n",
       "27   19033.0  RLB-6ee897a7-8cdf-463c-bdd9-859538cfbc0d  None     None   \n",
       "28   19077.0  RLB-6d015d31-01cd-4dd1-9591-ac9910b29f0f  None     None   \n",
       "29   19115.0  RLB-238ca8ea-4f2e-4a25-ab55-1c972647a469  None     None   \n",
       "30   19143.0  RLB-7e0cc0a2-5b9f-46f7-b8e2-80cbfc20030f  None     None   \n",
       "31   19537.0  RLB-8fef30f2-09ad-452d-b4d1-3dcc5e9462b4  None     None   \n",
       "32   19659.0  RLB-30a931cc-b87d-487b-8755-3e93a2f9b3ef  None     None   \n",
       "33   19805.0  RLB-6b7bab0b-6af5-427d-96f0-5954b2ab0000  None     None   \n",
       "34   20318.0  RLB-7ff9c1ba-1be8-4653-9dc0-1e4833033fe6  None     None   \n",
       "35   21266.0  RLB-efe4d9a4-5ed7-443c-9131-47f47aa85e83  None     None   \n",
       "\n",
       "   DATA_INI FONTE SCALA  UN_VOL_AV UN_VOL_EX UN_VOL_POR  UN_VOL_QE  \\\n",
       "0      None  None    04     12.227        02         03     12.227   \n",
       "1      None  None    04     18.011        02         01     18.011   \n",
       "2      None  None    04     12.441        02         03     12.441   \n",
       "3      None  None    04     10.495        02         03     10.495   \n",
       "4      None  None    04     13.812        02         01     13.812   \n",
       "5      None  None    04     17.222        02         01     17.222   \n",
       "6      None  None    04      8.270        02         03      8.270   \n",
       "7      None  None    04      8.918        02         03      8.918   \n",
       "8      None  None    04      8.932        02         03      8.932   \n",
       "9      None  None    04     13.260        02         01     13.260   \n",
       "10     None  None    04     14.531        02         01     14.531   \n",
       "11     None  None    04     10.593        02         03     10.593   \n",
       "12     None  None    04     16.729        02         01     16.729   \n",
       "13     None  None    04     13.992        02         01     13.992   \n",
       "14     None  None    04      8.861        02         03      8.861   \n",
       "15     None  None    04     15.748        02         01     15.748   \n",
       "16     None  None    04     14.315        02         01     14.315   \n",
       "17     None  None    04     17.264        02         01     17.264   \n",
       "18     None  None    04     16.020        02         01     16.020   \n",
       "19     None  None    04     17.699        02         01     17.699   \n",
       "20     None  None    04     15.490        02         01     15.490   \n",
       "21     None  None    04      8.299        02         03      8.299   \n",
       "22     None  None    04     14.411        02         01     14.411   \n",
       "23     None  None    04      8.270        02         03      8.270   \n",
       "24     None  None    04     13.498        02         01     13.498   \n",
       "25     None  None    04     16.586        02         01     16.586   \n",
       "26     None  None    04      9.944        02         01      9.944   \n",
       "27     None  None    04     13.656        02         01     13.656   \n",
       "28     None  None    04      9.446        02         03      9.446   \n",
       "29     None  None    04     16.633        02         01     16.633   \n",
       "30     None  None    04     17.336        02         01     17.336   \n",
       "31     None  None    04     15.580        02         01     15.580   \n",
       "32     None  None    04      1.613        02         06      1.613   \n",
       "33     None  None    04     17.452        02         01     17.452   \n",
       "34     None  None    04      8.020        02         03      8.020   \n",
       "35     None  None    04     15.079        02         01     15.079   \n",
       "\n",
       "                                      CEDIUV DATA_CONS  Extru  hgt_lod1  \\\n",
       "0   RLB-8d38a0d4-dd55-4575-afe8-54bf99179072      None    5.0    17.452   \n",
       "1   RLB-6b24fa57-bc9c-4acb-8bbb-9a8b3896954a      None    0.0    18.011   \n",
       "2   RLB-c7297a7c-9381-4ce9-92c7-b835d856805f      None    5.0    17.700   \n",
       "3   RLB-63162117-19ea-43d8-8300-ab9fd870c95f      None    5.0    16.633   \n",
       "4   RLB-011766a8-d049-425a-a402-d20c32145786      None    0.0    17.222   \n",
       "5   RLB-28cf36dd-e937-4812-8b05-adc4f5696b9e      None    0.0    17.222   \n",
       "6   RLB-8d38a0d4-dd55-4575-afe8-54bf99179072      None    5.0    17.452   \n",
       "7   RLB-011766a8-d049-425a-a402-d20c32145786      None    5.0    17.222   \n",
       "8   RLB-6b24fa57-bc9c-4acb-8bbb-9a8b3896954a      None    5.0    18.011   \n",
       "9   RLB-c7297a7c-9381-4ce9-92c7-b835d856805f      None    0.0    16.586   \n",
       "10  RLB-28cf36dd-e937-4812-8b05-adc4f5696b9e      None    0.0    17.222   \n",
       "11  RLB-28cf36dd-e937-4812-8b05-adc4f5696b9e      None    5.0    17.222   \n",
       "12  RLB-6b24fa57-bc9c-4acb-8bbb-9a8b3896954a      None    0.0    18.011   \n",
       "13  RLB-6b24fa57-bc9c-4acb-8bbb-9a8b3896954a      None    0.0    18.011   \n",
       "14  RLB-c7297a7c-9381-4ce9-92c7-b835d856805f      None    5.0    17.700   \n",
       "15  RLB-28cf36dd-e937-4812-8b05-adc4f5696b9e      None    0.0    17.222   \n",
       "16  RLB-63162117-19ea-43d8-8300-ab9fd870c95f      None    0.0    16.633   \n",
       "17  RLB-6b24fa57-bc9c-4acb-8bbb-9a8b3896954a      None    0.0    18.011   \n",
       "18  RLB-8d38a0d4-dd55-4575-afe8-54bf99179072      None    0.0    17.452   \n",
       "19  RLB-c7297a7c-9381-4ce9-92c7-b835d856805f      None    0.0    17.700   \n",
       "20  RLB-63162117-19ea-43d8-8300-ab9fd870c95f      None    0.0    16.633   \n",
       "21  RLB-6b24fa57-bc9c-4acb-8bbb-9a8b3896954a      None    5.0    18.011   \n",
       "22  RLB-6b24fa57-bc9c-4acb-8bbb-9a8b3896954a      None    0.0    18.011   \n",
       "23  RLB-8d38a0d4-dd55-4575-afe8-54bf99179072      None    5.0    17.452   \n",
       "24  RLB-8d38a0d4-dd55-4575-afe8-54bf99179072      None    0.0    17.452   \n",
       "25  RLB-c7297a7c-9381-4ce9-92c7-b835d856805f      None    0.0    16.586   \n",
       "26  RLB-011766a8-d049-425a-a402-d20c32145786      None    0.0    17.222   \n",
       "27  RLB-28cf36dd-e937-4812-8b05-adc4f5696b9e      None    0.0    17.222   \n",
       "28  RLB-8d38a0d4-dd55-4575-afe8-54bf99179072      None    5.0    17.452   \n",
       "29  RLB-63162117-19ea-43d8-8300-ab9fd870c95f      None    0.0    16.633   \n",
       "30  RLB-6b24fa57-bc9c-4acb-8bbb-9a8b3896954a      None    0.0    18.011   \n",
       "31  RLB-28cf36dd-e937-4812-8b05-adc4f5696b9e      None    0.0    17.222   \n",
       "32  RLB-c7297a7c-9381-4ce9-92c7-b835d856805f      None    0.0    17.700   \n",
       "33  RLB-8d38a0d4-dd55-4575-afe8-54bf99179072      None    0.0    17.452   \n",
       "34  RLB-c7297a7c-9381-4ce9-92c7-b835d856805f      None    5.0    16.586   \n",
       "35  RLB-63162117-19ea-43d8-8300-ab9fd870c95f      None    0.0    16.633   \n",
       "\n",
       "    lod1_void                                           geometry  \n",
       "0      12.452  POLYGON Z ((641049.504 5002138.862 25.000, 641...  \n",
       "1      18.011  POLYGON Z ((641061.774 5002156.892 19.521, 641...  \n",
       "2      12.700  POLYGON Z ((641033.106 5002129.524 25.000, 641...  \n",
       "3      11.633  POLYGON Z ((641097.972 5002177.290 24.300, 641...  \n",
       "4      17.222  POLYGON Z ((641100.300 5002201.939 19.406, 641...  \n",
       "5      17.222  POLYGON Z ((641094.117 5002181.126 19.311, 641...  \n",
       "6      12.452  POLYGON Z ((641049.313 5002136.073 25.000, 641...  \n",
       "7      12.222  POLYGON Z ((641113.248 5002190.547 24.300, 641...  \n",
       "8      13.011  POLYGON Z ((641066.946 5002150.916 25.000, 641...  \n",
       "9      16.586  POLYGON Z ((641039.403 5002144.479 19.760, 641...  \n",
       "10     17.222  POLYGON Z ((641092.152 5002196.321 19.700, 641...  \n",
       "11     12.222  POLYGON Z ((641105.741 5002184.033 24.300, 641...  \n",
       "12     18.011  POLYGON Z ((641080.124 5002169.611 19.307, 641...  \n",
       "13     18.011  POLYGON Z ((641080.712 5002168.914 19.307, 641...  \n",
       "14     12.700  POLYGON Z ((641043.883 5002131.690 25.000, 641...  \n",
       "15     17.222  POLYGON Z ((641092.441 5002188.923 19.505, 641...  \n",
       "16     16.633  POLYGON Z ((641082.456 5002178.009 19.303, 641...  \n",
       "17     18.011  POLYGON Z ((641056.875 5002155.626 19.521, 641...  \n",
       "18     17.452  POLYGON Z ((641044.801 5002143.893 19.772, 641...  \n",
       "19     17.700  POLYGON Z ((641035.649 5002141.205 19.742, 641...  \n",
       "20     16.633  POLYGON Z ((641089.613 5002185.611 19.305, 641...  \n",
       "21     13.011  POLYGON Z ((641083.921 5002165.111 25.000, 641...  \n",
       "22     18.011  POLYGON Z ((641063.391 5002154.508 19.521, 641...  \n",
       "23     12.452  POLYGON Z ((641060.640 5002145.610 25.000, 641...  \n",
       "24     17.452  POLYGON Z ((641052.157 5002155.362 19.772, 641...  \n",
       "25     16.586  POLYGON Z ((641035.649 5002141.205 19.824, 641...  \n",
       "26     17.222  POLYGON Z ((641100.300 5002201.939 20.052, 641...  \n",
       "27     17.222  POLYGON Z ((641089.097 5002192.134 19.308, 641...  \n",
       "28     12.452  POLYGON Z ((641051.797 5002138.166 25.000, 641...  \n",
       "29     16.633  POLYGON Z ((641080.968 5002176.634 19.305, 641...  \n",
       "30     18.011  POLYGON Z ((641062.200 5002160.431 19.418, 641...  \n",
       "31     17.222  POLYGON Z ((641102.355 5002187.448 19.313, 641...  \n",
       "32     17.700  POLYGON Z ((641034.543 5002136.534 37.441, 641...  \n",
       "33     17.452  POLYGON Z ((641043.106 5002145.705 19.775, 641...  \n",
       "34     11.586  POLYGON Z ((641046.243 5002136.237 25.000, 641...  \n",
       "35     16.633  POLYGON Z ((641084.081 5002179.509 19.303, 641...  >"
      ]
     },
     "execution_count": 3,
     "metadata": {},
     "output_type": "execute_result"
    }
   ],
   "source": [
    "# read shapefile\n",
    "gdf = gpd.read_file(\"./shp/dbgt_building_porch_1_lod1.shp\")\n",
    "gdf.head"
   ]
  },
  {
   "cell_type": "code",
   "execution_count": null,
   "metadata": {},
   "outputs": [],
   "source": [
    "gos.estimate_utm_crs()\n",
    "gos.to_crs(\"EPSG:32632\")"
   ]
  },
  {
   "cell_type": "code",
   "execution_count": 4,
   "metadata": {},
   "outputs": [],
   "source": [
    "volumes=[]\n",
    "# extrude polygons one by one\n",
    "for i in range(0, len(gdf.geometry.array)):\n",
    "    # extract coordinates in each polygon\n",
    "    pts = gpd.GeoSeries(gdf.geometry[i]).get_coordinates(include_z=True)\n",
    "    # construct faces\n",
    "    face=[pts.shape[0]+1] + list(range(pts.shape[0])) + [0]\n",
    "    # generate polygon with coordinates and faces\n",
    "    polygon=pv.PolyData(np.array(pts), faces=face)\n",
    "    # generate volume by extruding polygon\n",
    "    volume=polygon.extrude((0,0, gdf[\"UN_VOL_QE\"][i]), capping=True)\n",
    "    # append genereted volume to array\n",
    "    volumes.append(volume)"
   ]
  },
  {
   "cell_type": "markdown",
   "metadata": {},
   "source": [
    "porch_volumes=[]\n",
    "# extrude polygons one by one\n",
    "for i in range(0, len(gdf.geometry.array)):\n",
    "    # extract coordinates in each polygon\n",
    "    pts = gpd.GeoSeries(gdf.geometry[i]).get_coordinates(include_z=True)\n",
    "    # construct faces\n",
    "    face=[pts.shape[0]+1] + list(range(pts.shape[0])) + [0]\n",
    "    # generate polygon with coordinates and faces\n",
    "    polygon=pv.PolyData(np.array(pts), faces=face)\n",
    "    # generate volume by extruding polygon\n",
    "    volume=polygon.extrude((0,0, gdf[\"UN_VOL_QE\"][i]), capping=True)\n",
    "    # append genereted volume to array\n",
    "    volumes.append(volume)"
   ]
  },
  {
   "cell_type": "code",
   "execution_count": 5,
   "metadata": {},
   "outputs": [
    {
     "data": {
      "application/vnd.jupyter.widget-view+json": {
       "model_id": "ccb6a0ad953d40e6b6d2dd7826e33287",
       "version_major": 2,
       "version_minor": 0
      },
      "text/plain": [
       "Widget(value='<iframe src=\"http://localhost:40171/index.html?ui=P_0x7c05b09f5ca0_0&reconnect=auto\" class=\"pyvi…"
      ]
     },
     "metadata": {},
     "output_type": "display_data"
    }
   ],
   "source": [
    "# plot using different colors\n",
    "pv.global_theme.color_cycler = \"default\"\n",
    "pl=pv.Plotter()\n",
    "\n",
    "for volume in volumes:\n",
    "    pl.add_mesh(volume)\n",
    "\n",
    "pl.show()"
   ]
  },
  {
   "cell_type": "code",
   "execution_count": null,
   "metadata": {},
   "outputs": [],
   "source": []
  }
 ],
 "metadata": {
  "kernelspec": {
   "display_name": "Python 3",
   "language": "python",
   "name": "python3"
  },
  "language_info": {
   "codemirror_mode": {
    "name": "ipython",
    "version": 3
   },
   "file_extension": ".py",
   "mimetype": "text/x-python",
   "name": "python",
   "nbconvert_exporter": "python",
   "pygments_lexer": "ipython3",
   "version": "3.12.2"
  }
 },
 "nbformat": 4,
 "nbformat_minor": 2
}
