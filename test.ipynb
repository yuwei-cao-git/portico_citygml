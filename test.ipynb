{
 "cells": [
  {
   "cell_type": "code",
   "execution_count": null,
   "metadata": {},
   "outputs": [],
   "source": [
    "import geopandas as gpd\n",
    "import pyvista as pv\n",
    "import numpy as np"
   ]
  },
  {
   "cell_type": "code",
   "execution_count": null,
   "metadata": {},
   "outputs": [],
   "source": [
    "gdf = gpd.read_file(\"./shp/dbgt_building_porch_1_lod1.shp\")\n",
    "gdf.head"
   ]
  },
  {
   "cell_type": "code",
   "execution_count": null,
   "metadata": {},
   "outputs": [],
   "source": [
    "gos.estimate_utm_crs()\n",
    "gos.to_crs(\"EPSG:32632\")"
   ]
  },
  {
   "cell_type": "code",
   "execution_count": null,
   "metadata": {},
   "outputs": [],
   "source": [
    "# read shapefile\n",
    "\n",
    "volumes=[]\n",
    "# extrude polygons one by one\n",
    "for i in range(0, len(gdf.geometry.array)):\n",
    "    # extract coordinates in each polygon\n",
    "    pts = gpd.GeoSeries(gdf.geometry[i]).get_coordinates(include_z=True)\n",
    "    # construct faces\n",
    "    face=[pts.shape[0]+1] + list(range(pts.shape[0])) + [0]\n",
    "    # generate polygon with coordinates and faces\n",
    "    polygon=pv.PolyData(np.array(pts), faces=face)\n",
    "    # generate volume by extruding polygon\n",
    "    volume=polygon.extrude((0,0, gdf[\"UN_VOL_QE\"][i]), capping=True)\n",
    "    # append genereted volume to array\n",
    "    volumes.append(volume)\n",
    "\n",
    "# volumes.plot(color='white', specular=1, screenshot='extruded.png')"
   ]
  },
  {
   "cell_type": "code",
   "execution_count": null,
   "metadata": {},
   "outputs": [],
   "source": [
    "# plot using different colors\n",
    "pv.global_theme.color_cycler = \"default\"\n",
    "pl=pv.Plotter()\n",
    "\n",
    "for volume in volumes:\n",
    "    pl.add_mesh(volume)\n",
    "\n",
    "pl.show()"
   ]
  }
 ],
 "metadata": {
  "kernelspec": {
   "display_name": "Python 3",
   "language": "python",
   "name": "python3"
  },
  "language_info": {
   "codemirror_mode": {
    "name": "ipython",
    "version": 3
   },
   "file_extension": ".py",
   "mimetype": "text/x-python",
   "name": "python",
   "nbconvert_exporter": "python",
   "pygments_lexer": "ipython3",
   "version": "3.9.6"
  }
 },
 "nbformat": 4,
 "nbformat_minor": 2
}
