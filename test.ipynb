{
 "cells": [
  {
   "cell_type": "code",
   "execution_count": 1,
   "metadata": {},
   "outputs": [],
   "source": [
    "import geopandas as gpd\n",
    "import pyvista as pv\n",
    "import numpy as np"
   ]
  },
  {
   "cell_type": "code",
   "execution_count": 2,
   "metadata": {},
   "outputs": [
    {
     "data": {
      "text/plain": [
       "<bound method NDFrame.head of    OBJECTID                                   CLASSID SCRIL DATA_FIN DATA_INI  \\\n",
       "0   13514.0  RLB-b2593efa-3aaf-4ccb-acd0-8e271a79b6bf  None     None     None   \n",
       "1   19659.0  RLB-30a931cc-b87d-487b-8755-3e93a2f9b3ef  None     None     None   \n",
       "\n",
       "  FONTE SCALA  UN_VOL_AV UN_VOL_EX UN_VOL_POR  UN_VOL_QE  \\\n",
       "0  None    04     17.699        02         01     17.699   \n",
       "1  None    04      1.613        02         06      1.613   \n",
       "\n",
       "                                     CEDIUV DATA_CONS  Extru  hgt_lod1  \\\n",
       "0  RLB-c7297a7c-9381-4ce9-92c7-b835d856805f      None    0.0      17.7   \n",
       "1  RLB-c7297a7c-9381-4ce9-92c7-b835d856805f      None    0.0      17.7   \n",
       "\n",
       "   lod1_void                                           geometry  \n",
       "0       17.7  POLYGON Z ((641035.649 5002141.205 19.742, 641...  \n",
       "1       17.7  POLYGON Z ((641034.543 5002136.534 37.441, 641...  >"
      ]
     },
     "execution_count": 2,
     "metadata": {},
     "output_type": "execute_result"
    }
   ],
   "source": [
    "gdf = gpd.read_file(\"./shp/dbgt_building_porch_1_lod1.shp\")\n",
    "gdf.head"
   ]
  },
  {
   "cell_type": "code",
   "execution_count": null,
   "metadata": {},
   "outputs": [],
   "source": [
    "gos.estimate_utm_crs()\n",
    "gos.to_crs(\"EPSG:32632\")"
   ]
  },
  {
   "cell_type": "code",
   "execution_count": 6,
   "metadata": {},
   "outputs": [],
   "source": [
    "# read shapefile\n",
    "gdf = gpd.read_file(\"./shp/dbgt_building_porch_1_lod1.shp\")\n",
    "volumes=[]\n",
    "# extrude polygons one by one\n",
    "for i in range(0, len(gdf.geometry.array)):\n",
    "    # extract coordinates in each polygon\n",
    "    pts = gpd.GeoSeries(gdf.geometry[i]).get_coordinates(include_z=True)\n",
    "    # construct faces\n",
    "    face=[pts.shape[0]+1] + list(range(pts.shape[0])) + [0]\n",
    "    # generate polygon with coordinates and faces\n",
    "    polygon=pv.PolyData(np.array(pts), faces=face)\n",
    "    # generate volume by extruding polygon\n",
    "    volume=polygon.extrude((0,0, gdf[\"UN_VOL_QE\"][i]), capping=True)\n",
    "    # append genereted volume to array\n",
    "    volumes.append(volume)\n",
    "\n",
    "# volumes.plot(color='white', specular=1, screenshot='extruded.png')"
   ]
  },
  {
   "cell_type": "code",
   "execution_count": 7,
   "metadata": {},
   "outputs": [
    {
     "data": {
      "application/vnd.jupyter.widget-view+json": {
       "model_id": "601e75be529a4b9a9b7a8773dfba49e5",
       "version_major": 2,
       "version_minor": 0
      },
      "text/plain": [
       "Widget(value='<iframe src=\"http://localhost:52056/index.html?ui=P_0x125daa4c0_0&reconnect=auto\" class=\"pyvista…"
      ]
     },
     "metadata": {},
     "output_type": "display_data"
    }
   ],
   "source": [
    "# plot using different colors\n",
    "pv.global_theme.color_cycler = \"default\"\n",
    "pl=pv.Plotter()\n",
    "\n",
    "for volume in volumes:\n",
    "    pl.add_mesh(volume)\n",
    "\n",
    "pl.show()"
   ]
  }
 ],
 "metadata": {
  "kernelspec": {
   "display_name": "Python 3",
   "language": "python",
   "name": "python3"
  },
  "language_info": {
   "codemirror_mode": {
    "name": "ipython",
    "version": 3
   },
   "file_extension": ".py",
   "mimetype": "text/x-python",
   "name": "python",
   "nbconvert_exporter": "python",
   "pygments_lexer": "ipython3",
   "version": "3.9.6"
  }
 },
 "nbformat": 4,
 "nbformat_minor": 2
}
